{
 "cells": [
  {
   "cell_type": "markdown",
   "metadata": {},
   "source": [
    "# Opakovací lekce\n",
    "\n",
    "## Kvíz"
   ]
  },
  {
   "cell_type": "code",
   "execution_count": 36,
   "metadata": {},
   "outputs": [],
   "source": [
    "pracovni_dny = [\"pondělí\", \"úterý\", \"středa\", \"čtvrtek\", \"pátek\"]"
   ]
  },
  {
   "cell_type": "markdown",
   "metadata": {},
   "source": [
    "### Otázka 1\n",
    "\n",
    "Jak ze seznamu pracovni_dny získám hodnotu pondělí?\n",
    "\n",
    "![](images/1a2.PNG)"
   ]
  },
  {
   "cell_type": "code",
   "execution_count": 37,
   "metadata": {},
   "outputs": [
    {
     "data": {
      "text/plain": [
       "'pondělí'"
      ]
     },
     "execution_count": 37,
     "metadata": {},
     "output_type": "execute_result"
    }
   ],
   "source": [
    "pracovni_dny[0]"
   ]
  },
  {
   "cell_type": "markdown",
   "metadata": {},
   "source": [
    "### Otázka 2\n",
    "\n",
    "Jak ze seznamu pracovni_dny získám hodnotu pátek?\n",
    "\n",
    "![](images/1a2.PNG)"
   ]
  },
  {
   "cell_type": "code",
   "execution_count": 38,
   "metadata": {},
   "outputs": [
    {
     "data": {
      "text/plain": [
       "'pátek'"
      ]
     },
     "execution_count": 38,
     "metadata": {},
     "output_type": "execute_result"
    }
   ],
   "source": [
    "pracovni_dny[-1]"
   ]
  },
  {
   "cell_type": "code",
   "execution_count": 39,
   "metadata": {},
   "outputs": [
    {
     "data": {
      "text/plain": [
       "'pátek'"
      ]
     },
     "execution_count": 39,
     "metadata": {},
     "output_type": "execute_result"
    }
   ],
   "source": [
    "pracovni_dny[4]"
   ]
  },
  {
   "cell_type": "code",
   "execution_count": 40,
   "metadata": {},
   "outputs": [],
   "source": [
    "vykaz_prace = [[\"pondělí\", 5], [\"úterý\", 4], [\"středa\", 8], [\"čtvrtek\", 9], [\"pátek\", 4]]"
   ]
  },
  {
   "cell_type": "markdown",
   "metadata": {},
   "source": [
    "### Otázka 3\n",
    "\n",
    "Který z příkazů vrátí počet odpracovaných hodin v pondělí?"
   ]
  },
  {
   "cell_type": "code",
   "execution_count": 41,
   "metadata": {},
   "outputs": [
    {
     "data": {
      "text/plain": [
       "5"
      ]
     },
     "execution_count": 41,
     "metadata": {},
     "output_type": "execute_result"
    }
   ],
   "source": [
    "vykaz_prace[0][1]"
   ]
  },
  {
   "cell_type": "markdown",
   "metadata": {},
   "source": [
    "### Otázka 4\n",
    "\n",
    "Který z příkazů vrátí počet odpracovaných hodin v úterý?"
   ]
  },
  {
   "cell_type": "code",
   "execution_count": 42,
   "metadata": {},
   "outputs": [
    {
     "data": {
      "text/plain": [
       "4"
      ]
     },
     "execution_count": 42,
     "metadata": {},
     "output_type": "execute_result"
    }
   ],
   "source": [
    "vykaz_prace[1][1]"
   ]
  },
  {
   "cell_type": "markdown",
   "metadata": {},
   "source": [
    "### Otázka 5\n",
    "\n",
    "Z výkazu práce chci získat seznam s odpracovanými hodinami [5, 4, 8, 9, 4]. Co doplním do kódu místo _________?\n",
    "\n",
    "![](images/5.PNG)"
   ]
  },
  {
   "cell_type": "code",
   "execution_count": 43,
   "metadata": {},
   "outputs": [
    {
     "data": {
      "text/plain": [
       "[5, 4, 8, 9, 4]"
      ]
     },
     "execution_count": 43,
     "metadata": {},
     "output_type": "execute_result"
    }
   ],
   "source": [
    "vykaz_prace = [[\"pondělí\", 5], [\"úterý\", 4], [\"středa\", 8], [\"čtvrtek\", 9], [\"pátek\", 4]]\n",
    "odpracovane_hodiny = []\n",
    "for radek in vykaz_prace:\n",
    "    odpracovane_hodiny.append(radek[1])\n",
    "odpracovane_hodiny"
   ]
  },
  {
   "cell_type": "markdown",
   "metadata": {},
   "source": [
    "### Otázka 6\n",
    "\n",
    "Nyní mám v seznamu hodiny odpracované hodiny ([5, 4, 8, 9, 4]). Jak spočítám průměrný počet odpracovaných hodin?"
   ]
  },
  {
   "cell_type": "code",
   "execution_count": 44,
   "metadata": {},
   "outputs": [
    {
     "data": {
      "text/plain": [
       "6.0"
      ]
     },
     "execution_count": 44,
     "metadata": {},
     "output_type": "execute_result"
    }
   ],
   "source": [
    "sum(odpracovane_hodiny) / len(odpracovane_hodiny)"
   ]
  },
  {
   "cell_type": "code",
   "execution_count": 45,
   "metadata": {},
   "outputs": [
    {
     "data": {
      "text/plain": [
       "6"
      ]
     },
     "execution_count": 45,
     "metadata": {},
     "output_type": "execute_result"
    }
   ],
   "source": [
    "import statistics\n",
    "statistics.mean(odpracovane_hodiny)"
   ]
  },
  {
   "cell_type": "markdown",
   "metadata": {},
   "source": [
    "### Otázka 7\n",
    "\n",
    "Pro generování náhodných čísel můžu použít modul `random`.\n",
    "\n",
    "### Otázka 8\n",
    "\n",
    "Následující program provádí *otevření a načtení dat ze souboru*.\n",
    "\n",
    "![images/8.PNG](images/8.PNG)\n",
    "\n",
    "### Otázka 9\n",
    "\n",
    "Doplň podmínku tak, aby do proměnné hodinova_sazba byla vložena hodnota 400, pokud má pozice hodnotu junior analytik\n",
    "\n",
    "![](images/9.PNG)"
   ]
  },
  {
   "cell_type": "code",
   "execution_count": 46,
   "metadata": {},
   "outputs": [],
   "source": [
    "pozice = \"junior analytik\"\n",
    "if pozice == \"junior analytik\":\n",
    "    hodinova_sazba = 400"
   ]
  },
  {
   "cell_type": "markdown",
   "metadata": {},
   "source": [
    "### Otázka 10\n",
    "\n",
    "Jakou opravu byste provedli v následujícím programu, aby student s 9 body dostal výsledek \"nevyhověl\"?\n",
    "\n",
    "![](images/10.PNG)"
   ]
  },
  {
   "cell_type": "code",
   "execution_count": 47,
   "metadata": {},
   "outputs": [
    {
     "data": {
      "text/plain": [
       "'nevyhověl'"
      ]
     },
     "execution_count": 47,
     "metadata": {},
     "output_type": "execute_result"
    }
   ],
   "source": [
    "pocet_bodu = 9\n",
    "if pocet_bodu < 10:\n",
    "    vysledek = \"nevyhověl\"\n",
    "elif pocet_bodu < 14:\n",
    "    vysledek = \"dobře\"\n",
    "elif pocet_bodu < 18:\n",
    "    vysledek = \"velmi dobře\"\n",
    "else:\n",
    "    vysledek = \"výborně\"\n",
    "vysledek"
   ]
  },
  {
   "cell_type": "markdown",
   "metadata": {},
   "source": [
    "### Otázka 11\n",
    "\n",
    "Formáty souborů používané běžně pro ukládání textových dat jsou *JSON* a *CSV*.\n",
    "\n",
    "### Otázka 12\n",
    "\n",
    "Uvažuj, že chceš vypsat dny, kdy byla návštěvnost větší než 600. Co můžeš použít?\n",
    "\n",
    "![](images/12.PNG)\n",
    "\n",
    "Cyklus, do kterého je vnořená podmínka"
   ]
  },
  {
   "cell_type": "code",
   "execution_count": 48,
   "metadata": {},
   "outputs": [
    {
     "name": "stdout",
     "output_type": "stream",
     "text": [
      "2022-05-05\n",
      "2022-05-06\n"
     ]
    }
   ],
   "source": [
    "navstevnost = [\n",
    "    [\"2022-05-02\", 593],\n",
    "    [\"2022-05-03\", 335],\n",
    "    [\"2022-05-04\", 264],\n",
    "    [\"2022-05-05\", 809],\n",
    "    [\"2022-05-06\", 872],\n",
    "    [\"2022-05-07\", 545],\n",
    "    [\"2022-05-08\", 368],\n",
    "]\n",
    "\n",
    "for radek in navstevnost:\n",
    "    if radek[1] > 600:\n",
    "        print(radek[0])"
   ]
  },
  {
   "cell_type": "markdown",
   "metadata": {},
   "source": [
    "### Otázka 13\n",
    "\n",
    "Co je `tajemna_hodnota`?\n",
    "\n",
    "![](images/13.PNG)"
   ]
  },
  {
   "cell_type": "code",
   "execution_count": 49,
   "metadata": {},
   "outputs": [
    {
     "data": {
      "text/plain": [
       "872"
      ]
     },
     "execution_count": 49,
     "metadata": {},
     "output_type": "execute_result"
    }
   ],
   "source": [
    "navstevnost = [\n",
    "    [\"2022-05-02\", 593],\n",
    "    [\"2022-05-03\", 335],\n",
    "    [\"2022-05-04\", 264],\n",
    "    [\"2022-05-05\", 809],\n",
    "    [\"2022-05-06\", 872],\n",
    "    [\"2022-05-07\", 545],\n",
    "    [\"2022-05-08\", 368],\n",
    "]\n",
    "\n",
    "tajemna_hodnota = 0\n",
    "for radek in navstevnost:\n",
    "    if radek[1] > tajemna_hodnota:\n",
    "        tajemna_hodnota = radek[1]\n",
    "tajemna_hodnota"
   ]
  },
  {
   "cell_type": "markdown",
   "metadata": {},
   "source": [
    "### Otázka 14\n",
    "\n",
    "Jaký řádek přidat do programu (dovnitř podmínky), aby v proměnné datum bylo datum s nejvyšší návštěvností?\n",
    "\n",
    "![](images/14.PNG)"
   ]
  },
  {
   "cell_type": "code",
   "execution_count": 50,
   "metadata": {},
   "outputs": [
    {
     "data": {
      "text/plain": [
       "'2022-05-06'"
      ]
     },
     "execution_count": 50,
     "metadata": {},
     "output_type": "execute_result"
    }
   ],
   "source": [
    "tajemna_hodnota = 0\n",
    "for radek in navstevnost:\n",
    "    if radek[1] > tajemna_hodnota:\n",
    "        tajemna_hodnota = radek[1]\n",
    "        datum = radek[0]\n",
    "datum"
   ]
  },
  {
   "cell_type": "markdown",
   "metadata": {},
   "source": [
    "### Otázka 15\n",
    "\n",
    "Následující program provádí *stahování dat z webového API*\n",
    "\n",
    "![](images/15.PNG)\n",
    "\n",
    "### Otázka 16\n",
    "\n",
    "Jak zjistíme počet studentů předmětu?\n",
    "\n",
    "![](images/16.PNG)"
   ]
  },
  {
   "cell_type": "code",
   "execution_count": 51,
   "metadata": {},
   "outputs": [
    {
     "data": {
      "text/plain": [
       "2"
      ]
     },
     "execution_count": 51,
     "metadata": {},
     "output_type": "execute_result"
    }
   ],
   "source": [
    "university_subject = {\n",
    "    \"subjectName\": \"Introduction to Computer Science\",\n",
    "    \"subjectCode\": \"CS101\",\n",
    "    \"students\": [\n",
    "        {\n",
    "            \"firstName\": \"Laura\",\n",
    "            \"lastName\": \"Johnson\",\n",
    "        },\n",
    "        {\n",
    "            \"firstName\": \"Raj\",\n",
    "            \"lastName\": \"Patel\",\n",
    "        }\n",
    "    ]\n",
    "}\n",
    "\n",
    "len(university_subject[\"students\"])"
   ]
  },
  {
   "cell_type": "markdown",
   "metadata": {},
   "source": [
    "### Otázka 17\n",
    "\n",
    "Klíčem ve slovníku může být *celé číslo*, *řetězec*, *pravdivostní hodnota*.\n",
    "\n",
    "[Proč nemůže být seznam klíčem ve slovníku v Pythonu](https://chat.openai.com/share/14d6772b-0eb1-4374-a45e-bebaa1378eda)"
   ]
  },
  {
   "cell_type": "code",
   "execution_count": 52,
   "metadata": {},
   "outputs": [],
   "source": [
    "slovnik_cislo = {\n",
    "    1: \"jablko\",\n",
    "    2: \"banán\",\n",
    "    3: \"pomeranč\"\n",
    "}\n",
    "slovnik_retezec = {\n",
    "    \"jméno\": \"Jan\",\n",
    "    \"příjmení\": \"Novák\",\n",
    "    \"město\": \"Praha\"\n",
    "}\n",
    "slovnik_boolean = {\n",
    "    True: \"Ano\",\n",
    "    False: \"Ne\"\n",
    "}"
   ]
  },
  {
   "cell_type": "code",
   "execution_count": 53,
   "metadata": {},
   "outputs": [
    {
     "ename": "TypeError",
     "evalue": "unhashable type: 'list'",
     "output_type": "error",
     "traceback": [
      "\u001b[0;31m---------------------------------------------------------------------------\u001b[0m",
      "\u001b[0;31mTypeError\u001b[0m                                 Traceback (most recent call last)",
      "Cell \u001b[0;32mIn[53], line 1\u001b[0m\n\u001b[0;32m----> 1\u001b[0m slovnik_tuple \u001b[38;5;241m=\u001b[39m {\n\u001b[1;32m      2\u001b[0m     [\u001b[38;5;241m1\u001b[39m, \u001b[38;5;241m2\u001b[39m]: \u001b[38;5;124m\"\u001b[39m\u001b[38;5;124mpozice 1,2\u001b[39m\u001b[38;5;124m\"\u001b[39m,\n\u001b[1;32m      3\u001b[0m     [\u001b[38;5;241m3\u001b[39m, \u001b[38;5;241m4\u001b[39m]: \u001b[38;5;124m\"\u001b[39m\u001b[38;5;124mpozice 3,4\u001b[39m\u001b[38;5;124m\"\u001b[39m,\n\u001b[1;32m      4\u001b[0m     [\u001b[38;5;241m5\u001b[39m, \u001b[38;5;241m6\u001b[39m]: \u001b[38;5;124m\"\u001b[39m\u001b[38;5;124mpozice 5,6\u001b[39m\u001b[38;5;124m\"\u001b[39m\n\u001b[1;32m      5\u001b[0m }\n",
      "\u001b[0;31mTypeError\u001b[0m: unhashable type: 'list'"
     ]
    }
   ],
   "source": [
    "slovnik_tuple = {\n",
    "    [1, 2]: \"pozice 1,2\",\n",
    "    [3, 4]: \"pozice 3,4\",\n",
    "    [5, 6]: \"pozice 5,6\"\n",
    "}"
   ]
  },
  {
   "cell_type": "markdown",
   "metadata": {},
   "source": [
    "### Otázka 18\n",
    "\n",
    "Co je potřeba doplnit do programu, aby spočítal celkové měsíční výdaje domácnosti?\n",
    "\n",
    "![](images/18.PNG)"
   ]
  },
  {
   "cell_type": "code",
   "execution_count": null,
   "metadata": {},
   "outputs": [
    {
     "data": {
      "text/plain": [
       "5675.0"
      ]
     },
     "execution_count": 25,
     "metadata": {},
     "output_type": "execute_result"
    }
   ],
   "source": [
    "mesicni_vydaje = [\n",
    "    {\"kategorie\": \"Elektřina\", \"množství\": 350, \"cena_za_jednotku\": 5.50},\n",
    "    {\"kategorie\": \"Voda\", \"množství\": 30, \"cena_za_jednotku\": 75.00},\n",
    "    {\"kategorie\": \"Internet\", \"množství\": 1, \"cena_za_jednotku\": 500.00},\n",
    "    {\"kategorie\": \"Plyn\", \"množství\": 100, \"cena_za_jednotku\": 10.00},\n",
    "]\n",
    "celkem = 0\n",
    "for radek in mesicni_vydaje:\n",
    "    celkem = celkem + radek[\"množství\"] * radek[\"cena_za_jednotku\"]\n",
    "celkem"
   ]
  },
  {
   "cell_type": "markdown",
   "metadata": {},
   "source": [
    "### Otázka 19\n",
    "\n",
    "Máš seznam `top_languages = [\"Python\", \"JavaScript\", \"Java\", \"C#\", \"C++\", \"Go\"]`. Jak vybereš první tři položky?"
   ]
  },
  {
   "cell_type": "code",
   "execution_count": null,
   "metadata": {},
   "outputs": [
    {
     "data": {
      "text/plain": [
       "['Python', 'JavaScript', 'Java']"
      ]
     },
     "execution_count": 27,
     "metadata": {},
     "output_type": "execute_result"
    }
   ],
   "source": [
    "top_languages = [\"Python\", \"JavaScript\", \"Java\", \"C#\", \"C++\", \"Go\"]\n",
    "top_languages[:3]"
   ]
  },
  {
   "cell_type": "code",
   "execution_count": null,
   "metadata": {},
   "outputs": [
    {
     "data": {
      "text/plain": [
       "['Python', 'JavaScript', 'Java']"
      ]
     },
     "execution_count": 28,
     "metadata": {},
     "output_type": "execute_result"
    }
   ],
   "source": [
    "top_languages[0:3]"
   ]
  },
  {
   "cell_type": "markdown",
   "metadata": {},
   "source": [
    "### Otázka 20\n",
    "\n",
    "Které funkce a metody je možné použít pro práci s **desetinným číslem**? Zaškrtni všechny, pro které to platí."
   ]
  },
  {
   "cell_type": "code",
   "execution_count": null,
   "metadata": {},
   "outputs": [
    {
     "data": {
      "text/plain": [
       "'Python, SQL, Tableau'"
      ]
     },
     "execution_count": 30,
     "metadata": {},
     "output_type": "execute_result"
    }
   ],
   "source": [
    "separator = \", \"\n",
    "words = [\"Python\", \"SQL\", \"Tableau\"]\n",
    "separator.join(words)"
   ]
  },
  {
   "cell_type": "code",
   "execution_count": null,
   "metadata": {},
   "outputs": [
    {
     "name": "stdout",
     "output_type": "stream",
     "text": [
      "['Praha', 'Brno', 'Ostrava']\n"
     ]
    }
   ],
   "source": [
    "text = \"Praha Brno Ostrava\"\n",
    "text.split()"
   ]
  },
  {
   "cell_type": "code",
   "execution_count": null,
   "metadata": {},
   "outputs": [
    {
     "name": "stdout",
     "output_type": "stream",
     "text": [
      "3\n"
     ]
    }
   ],
   "source": [
    "import math\n",
    "number = 3.7\n",
    "math.floor(number)"
   ]
  },
  {
   "cell_type": "code",
   "execution_count": null,
   "metadata": {},
   "outputs": [
    {
     "data": {
      "text/plain": [
       "4"
      ]
     },
     "execution_count": 33,
     "metadata": {},
     "output_type": "execute_result"
    }
   ],
   "source": [
    "math.ceil(number)"
   ]
  },
  {
   "cell_type": "code",
   "execution_count": null,
   "metadata": {},
   "outputs": [
    {
     "data": {
      "text/plain": [
       "3"
      ]
     },
     "execution_count": 35,
     "metadata": {},
     "output_type": "execute_result"
    }
   ],
   "source": [
    "words = [\"Python\", \"SQL\", \"Tableau\"]\n",
    "len(words)"
   ]
  },
  {
   "cell_type": "code",
   "execution_count": 54,
   "metadata": {},
   "outputs": [
    {
     "data": {
      "text/plain": [
       "10"
      ]
     },
     "execution_count": 54,
     "metadata": {},
     "output_type": "execute_result"
    }
   ],
   "source": [
    "bank_account = \"2107890123\"\n",
    "bank_code = \"2010\"\n",
    "len(bank_account)"
   ]
  },
  {
   "cell_type": "code",
   "execution_count": 55,
   "metadata": {},
   "outputs": [
    {
     "ename": "TypeError",
     "evalue": "object of type 'int' has no len()",
     "output_type": "error",
     "traceback": [
      "\u001b[0;31m---------------------------------------------------------------------------\u001b[0m",
      "\u001b[0;31mTypeError\u001b[0m                                 Traceback (most recent call last)",
      "Cell \u001b[0;32mIn[55], line 3\u001b[0m\n\u001b[1;32m      1\u001b[0m bank_account \u001b[38;5;241m=\u001b[39m \u001b[38;5;241m2107890123\u001b[39m\n\u001b[1;32m      2\u001b[0m bank_code \u001b[38;5;241m=\u001b[39m \u001b[38;5;241m2010\u001b[39m\n\u001b[0;32m----> 3\u001b[0m \u001b[38;5;28;43mlen\u001b[39;49m\u001b[43m(\u001b[49m\u001b[43mbank_account\u001b[49m\u001b[43m)\u001b[49m\n",
      "\u001b[0;31mTypeError\u001b[0m: object of type 'int' has no len()"
     ]
    }
   ],
   "source": [
    "bank_account = 2107890123\n",
    "bank_code = 2010\n",
    "len(bank_account)"
   ]
  },
  {
   "cell_type": "code",
   "execution_count": 56,
   "metadata": {},
   "outputs": [
    {
     "data": {
      "text/plain": [
       "'hello world'"
      ]
     },
     "execution_count": 56,
     "metadata": {},
     "output_type": "execute_result"
    }
   ],
   "source": [
    "text = \"Hello World\"\n",
    "text.lower()"
   ]
  },
  {
   "cell_type": "code",
   "execution_count": 58,
   "metadata": {},
   "outputs": [
    {
     "data": {
      "text/plain": [
       "'HELLO WORLD'"
      ]
     },
     "execution_count": 58,
     "metadata": {},
     "output_type": "execute_result"
    }
   ],
   "source": [
    "text = \"Hello World\"\n",
    "text.upper()"
   ]
  },
  {
   "cell_type": "code",
   "execution_count": 57,
   "metadata": {},
   "outputs": [
    {
     "data": {
      "text/plain": [
       "3.14"
      ]
     },
     "execution_count": 57,
     "metadata": {},
     "output_type": "execute_result"
    }
   ],
   "source": [
    "number = 3.14159\n",
    "round(number, 2)"
   ]
  },
  {
   "cell_type": "code",
   "execution_count": 59,
   "metadata": {},
   "outputs": [
    {
     "data": {
      "text/plain": [
       "'I love Python'"
      ]
     },
     "execution_count": 59,
     "metadata": {},
     "output_type": "execute_result"
    }
   ],
   "source": [
    "text = \"I hate Python\"\n",
    "text.replace(\"hate\", \"love\")"
   ]
  },
  {
   "cell_type": "code",
   "execution_count": 60,
   "metadata": {},
   "outputs": [
    {
     "data": {
      "text/plain": [
       "6"
      ]
     },
     "execution_count": 60,
     "metadata": {},
     "output_type": "execute_result"
    }
   ],
   "source": [
    "text = \"Praha Brno Ostrava\"\n",
    "text.find(\"Brno\")"
   ]
  },
  {
   "cell_type": "code",
   "execution_count": 61,
   "metadata": {},
   "outputs": [
    {
     "data": {
      "text/plain": [
       "-1"
      ]
     },
     "execution_count": 61,
     "metadata": {},
     "output_type": "execute_result"
    }
   ],
   "source": [
    "text.find(\"Plzeň\")"
   ]
  }
 ],
 "metadata": {
  "kernelspec": {
   "display_name": "Python 3",
   "language": "python",
   "name": "python3"
  },
  "language_info": {
   "codemirror_mode": {
    "name": "ipython",
    "version": 3
   },
   "file_extension": ".py",
   "mimetype": "text/x-python",
   "name": "python",
   "nbconvert_exporter": "python",
   "pygments_lexer": "ipython3",
   "version": "3.12.1"
  }
 },
 "nbformat": 4,
 "nbformat_minor": 2
}
